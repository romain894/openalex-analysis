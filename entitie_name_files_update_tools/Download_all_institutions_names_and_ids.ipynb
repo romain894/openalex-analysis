{
 "cells": [
  {
   "cell_type": "markdown",
   "id": "1fa38928-08d3-4b52-be14-eeb36cbff68c",
   "metadata": {},
   "source": [
    "# Download all institutions names and ids\n",
    "\n",
    "Author: Romain THOMAS  \n",
    "June 2023  \n",
    "Stockholm Resilience Centre, Stockholm University"
   ]
  },
  {
   "cell_type": "code",
   "execution_count": 1,
   "id": "1a7364a6-c5a5-4e98-bae1-9fc8b2d9b70d",
   "metadata": {},
   "outputs": [
    {
     "name": "stderr",
     "output_type": "stream",
     "text": [
      "102600it [09:25, 181.47it/s]                                                                                                                                                                                       \n"
     ]
    }
   ],
   "source": [
    "# from pyalex import Institutions\n",
    "from tqdm import tqdm\n",
    "import pandas as pd\n",
    "\n",
    "import os, sys\n",
    "sys.path.append(os.path.abspath('pyalex'))\n",
    "from pyalex import Institutions\n",
    "\n",
    "\n",
    "list_of_institutions_file_path = \"list_all_institutions.parquet\"\n",
    "\n",
    "per_page = 200\n",
    "\n",
    "# get the number of entities to download\n",
    "results, meta = Institutions().get(per_page = 1, return_meta=True)\n",
    "n_entities = meta['count']\n",
    "\n",
    "entities_list = [None] * n_entities\n",
    "\n",
    "pager = Institutions().paginate(per_page = per_page, n_max = None)\n",
    "\n",
    "with tqdm(total=n_entities) as pbar:\n",
    "    i = 0\n",
    "    for page in pager:\n",
    "        for entitie in page:\n",
    "            # delete useless datas\n",
    "            del entitie['international']\n",
    "            del entitie['repositories']\n",
    "            del entitie['country_code'] # already in geo.country_code\n",
    "    \n",
    "            # keep only the first element in the list of theses data\n",
    "            # display_name_acronym\n",
    "            if entitie['display_name_acronyms']:\n",
    "                entitie['display_name_acronym'] = entitie['display_name_acronyms'][0]\n",
    "            else:\n",
    "                entitie['display_name_acronym'] = None\n",
    "            del entitie['display_name_acronyms']\n",
    "            # display_name_alternative\n",
    "            if entitie['display_name_alternatives']:\n",
    "                entitie['display_name_alternative'] = entitie['display_name_alternatives'][0]\n",
    "            else:\n",
    "                entitie['display_name_alternative'] = None\n",
    "            del entitie['display_name_alternatives']\n",
    "            # add computed datas:\n",
    "            # works_cited_by_count_average\n",
    "            if entitie['works_count'] == 0:\n",
    "                entitie['works_cited_by_count_average'] = 0\n",
    "            else:\n",
    "                entitie['works_cited_by_count_average'] = round(entitie['cited_by_count']/entitie['works_count'], 2)\n",
    "            \n",
    "            entities_list[i] = entitie\n",
    "            i += 1\n",
    "        # update the progress bar\n",
    "        pbar.update(per_page)\n",
    "\n",
    "entities_list_df = pd.json_normalize(entities_list)\n",
    "entities_list_df.to_parquet(list_of_institutions_file_path, compression=None)"
   ]
  }
 ],
 "metadata": {
  "kernelspec": {
   "display_name": "Python 3 (ipykernel)",
   "language": "python",
   "name": "python3"
  },
  "language_info": {
   "codemirror_mode": {
    "name": "ipython",
    "version": 3
   },
   "file_extension": ".py",
   "mimetype": "text/x-python",
   "name": "python",
   "nbconvert_exporter": "python",
   "pygments_lexer": "ipython3",
   "version": "3.10.6"
  }
 },
 "nbformat": 4,
 "nbformat_minor": 5
}
