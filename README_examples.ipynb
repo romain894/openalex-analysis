{
 "cells": [
  {
   "cell_type": "markdown",
   "id": "6ab53610-8987-4a38-8c1d-959843552164",
   "metadata": {},
   "source": [
    "# openalex-analysis README examples\n",
    "\n",
    "Romain THOMAS 2023  \n",
    "Stockholm Resilience Centre  "
   ]
  },
  {
   "cell_type": "markdown",
   "id": "79e3bbd1-3040-424e-8e5e-3fcf4651a6cd",
   "metadata": {},
   "source": [
    "## Basic"
   ]
  },
  {
   "cell_type": "code",
   "execution_count": 30,
   "id": "c04f52f9-35f1-4d5b-b4aa-018a736f4bec",
   "metadata": {
    "tags": []
   },
   "outputs": [
    {
     "name": "stdout",
     "output_type": "stream",
     "text": [
      "Loading dataframe of works of the concept C66204764\n",
      "Loading the list of entities from a parquet file...\n",
      "\n",
      "First entities in the dataset:\n",
      "                                 id                                              title\n",
      "0  https://openalex.org/W2101946146  Asset Stock Accumulation and Sustainability of...\n",
      "1  https://openalex.org/W1999167944  Planetary boundaries: Guiding human developmen...\n",
      "2  https://openalex.org/W2122266551  Agricultural sustainability and intensive prod... \n",
      "\n",
      "Getting name of C66204764 from the OpenAlex API (cache disabled)...\n",
      "Creating the works references count of works C66204764...\n",
      "\n",
      "Most cited work within the dataset:\n",
      "                                  C66204764 Sustainability\n",
      "element                                                   \n",
      "https://openalex.org/W2026816730                       262\n",
      "https://openalex.org/W2096885696                       249\n",
      "https://openalex.org/W2103847341                       203\n"
     ]
    }
   ],
   "source": [
    "from openalex_analysis.plot import WorksPlot\n",
    "\n",
    "import pandas as pd\n",
    "pd.set_option('display.width', 1000)\n",
    "\n",
    "concept_sustainability_id = 'C66204764'\n",
    "\n",
    "# get the works about sustainability\n",
    "wplt = WorksPlot(concept_sustainability_id)\n",
    "\n",
    "print(\"\\nFirst entities in the dataset:\")\n",
    "print(wplt.entities_df[['id', 'title']].head(3), \"\\n\")\n",
    "\n",
    "# compute the most cited works by the dataset previously downloaded\n",
    "wplt.create_element_used_count_array('reference')\n",
    "\n",
    "print(\"\\nMost cited work within the dataset:\")\n",
    "print(wplt.element_count_df.head(3))"
   ]
  },
  {
   "cell_type": "markdown",
   "id": "ebc32a1b-437b-4cce-ab1e-bda1ec2d3ccc",
   "metadata": {},
   "source": [
    "### Concepts yearly count"
   ]
  },
  {
   "cell_type": "code",
   "execution_count": null,
   "id": "eb8187cf-e732-4ec2-9798-d71bc81df308",
   "metadata": {},
   "outputs": [],
   "source": []
  },
  {
   "cell_type": "code",
   "execution_count": null,
   "id": "07f1b4ba-3af9-4ee6-9c44-00556ac01df4",
   "metadata": {},
   "outputs": [],
   "source": []
  }
 ],
 "metadata": {
  "kernelspec": {
   "display_name": "Python 3 (ipykernel)",
   "language": "python",
   "name": "python3"
  },
  "language_info": {
   "codemirror_mode": {
    "name": "ipython",
    "version": 3
   },
   "file_extension": ".py",
   "mimetype": "text/x-python",
   "name": "python",
   "nbconvert_exporter": "python",
   "pygments_lexer": "ipython3",
   "version": "3.10.12"
  }
 },
 "nbformat": 4,
 "nbformat_minor": 5
}
