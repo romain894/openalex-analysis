{
 "cells": [
  {
   "cell_type": "markdown",
   "id": "a0b1707a-48e0-49ae-8dbc-dbc8ae2ac0eb",
   "metadata": {},
   "source": [
    "# Setup and settings\n",
    "\n",
    "Shows the default parameters and how to import and configure the library"
   ]
  },
  {
   "cell_type": "markdown",
   "id": "58a1a2df-a31d-484e-ba4f-209ee10ac964",
   "metadata": {},
   "source": [
    "## Import the library"
   ]
  },
  {
   "cell_type": "code",
   "execution_count": 1,
   "id": "74f9cdc1-0036-47a0-8f00-c69c14c37340",
   "metadata": {
    "ExecuteTime": {
     "end_time": "2024-04-22T17:59:06.298792Z",
     "start_time": "2024-04-22T17:59:05.845122Z"
    }
   },
   "outputs": [
    {
     "data": {
      "text/plain": [
       "<openalex_analysis.plot.entities_plot.WorksPlot at 0x7a64bc762ef0>"
      ]
     },
     "execution_count": 1,
     "metadata": {},
     "output_type": "execute_result"
    }
   ],
   "source": [
    "from openalex_analysis.plot import WorksPlot\n",
    "\n",
    "WorksPlot()"
   ]
  },
  {
   "cell_type": "markdown",
   "id": "fe8439cd-9b52-41a1-b23e-6188d5973b46",
   "metadata": {},
   "source": [
    "### Other way to import the library"
   ]
  },
  {
   "cell_type": "code",
   "execution_count": 2,
   "id": "0afac27e-e826-40db-b1d2-adb898f4bc80",
   "metadata": {
    "ExecuteTime": {
     "end_time": "2024-04-22T17:59:06.343004Z",
     "start_time": "2024-04-22T17:59:06.300050Z"
    }
   },
   "outputs": [
    {
     "data": {
      "text/plain": [
       "<openalex_analysis.plot.entities_plot.WorksPlot at 0x7a647acf9b70>"
      ]
     },
     "execution_count": 2,
     "metadata": {},
     "output_type": "execute_result"
    }
   ],
   "source": [
    "import openalex_analysis\n",
    "\n",
    "openalex_analysis.plot.WorksPlot()"
   ]
  },
  {
   "cell_type": "markdown",
   "id": "65911a3f-74d2-4e8a-9c38-6656dc0c59a7",
   "metadata": {},
   "source": [
    "### Import the analysis library only\n",
    "\n",
    "The analysis submodule is automatically imported when importing the plot module. You can only import the analysis submodule if you don't need the plot methods."
   ]
  },
  {
   "cell_type": "code",
   "execution_count": 3,
   "id": "b231a2f7-8c6b-4f14-9c4d-9a3461b878ae",
   "metadata": {
    "ExecuteTime": {
     "end_time": "2024-04-22T17:59:06.372414Z",
     "start_time": "2024-04-22T17:59:06.344202Z"
    }
   },
   "outputs": [
    {
     "data": {
      "text/plain": [
       "<openalex_analysis.analysis.entities_analysis.WorksAnalysis at 0x7a64bc723370>"
      ]
     },
     "execution_count": 3,
     "metadata": {},
     "output_type": "execute_result"
    }
   ],
   "source": [
    "from openalex_analysis.analysis import WorksAnalysis\n",
    "\n",
    "WorksAnalysis()"
   ]
  },
  {
   "cell_type": "markdown",
   "id": "07549f80-18d8-4382-8dd7-48fecbc0d42d",
   "metadata": {},
   "source": [
    "## Configure the library\n",
    "\n",
    "Example to configure the email"
   ]
  },
  {
   "cell_type": "code",
   "execution_count": 4,
   "id": "34b6893b-e3d2-4450-93d6-5815c13bb9bd",
   "metadata": {
    "ExecuteTime": {
     "end_time": "2024-04-22T17:59:06.389836Z",
     "start_time": "2024-04-22T17:59:06.373637Z"
    }
   },
   "outputs": [
    {
     "data": {
      "text/plain": [
       "<openalex_analysis.plot.entities_plot.WorksPlot at 0x7a647acf99c0>"
      ]
     },
     "execution_count": 4,
     "metadata": {},
     "output_type": "execute_result"
    }
   ],
   "source": [
    "from openalex_analysis.plot import config, WorksPlot\n",
    "\n",
    "config.email = \"email@example.com\"\n",
    "\n",
    "WorksPlot()"
   ]
  },
  {
   "cell_type": "markdown",
   "id": "a9de4958-5714-407e-83dd-f18fedcf0a48",
   "metadata": {},
   "source": [
    "### Default configuration\n",
    "\n",
    "Those are the default parameters. You can change them when importing the library, like in the example above with the email."
   ]
  },
  {
   "cell_type": "code",
   "execution_count": 5,
   "id": "421b47b7-85bc-461e-a2ab-1ecb4fcab133",
   "metadata": {
    "ExecuteTime": {
     "end_time": "2024-04-22T17:59:06.395331Z",
     "start_time": "2024-04-22T17:59:06.392045Z"
    },
    "tags": []
   },
   "outputs": [],
   "source": [
    "config.email = None\n",
    "config.api_key = None\n",
    "config.openalex_url = \"https://api.openalex.org\"\n",
    "config.disable_tqdm_loading_bar = False\n",
    "config.n_max_entities = 10000\n",
    "config.project_datas_folder_path = \"data\"\n",
    "config.parquet_compression = \"brotli\"\n",
    "config.max_storage_percent = 95"
   ]
  }
 ],
 "metadata": {
  "kernelspec": {
   "display_name": "Python 3 (ipykernel)",
   "language": "python",
   "name": "python3"
  },
  "language_info": {
   "codemirror_mode": {
    "name": "ipython",
    "version": 3
   },
   "file_extension": ".py",
   "mimetype": "text/x-python",
   "name": "python",
   "nbconvert_exporter": "python",
   "pygments_lexer": "ipython3",
   "version": "3.10.6"
  }
 },
 "nbformat": 4,
 "nbformat_minor": 5
}
