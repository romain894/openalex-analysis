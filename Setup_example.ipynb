{
 "cells": [
  {
   "cell_type": "markdown",
   "id": "a0b1707a-48e0-49ae-8dbc-dbc8ae2ac0eb",
   "metadata": {},
   "source": [
    "# Setup exampleSettings\n",
    "\n",
    "Shows the default parameters and how to configure the library\n",
    "\n",
    "Author: Romain THOMAS  \n",
    "July 2023  \n",
    "Stockholm Resilience Centre, Stockholm University"
   ]
  },
  {
   "cell_type": "markdown",
   "id": "58a1a2df-a31d-484e-ba4f-209ee10ac964",
   "metadata": {},
   "source": [
    "## Import the library"
   ]
  },
  {
   "cell_type": "code",
   "execution_count": 1,
   "id": "0afac27e-e826-40db-b1d2-adb898f4bc80",
   "metadata": {},
   "outputs": [],
   "source": [
    "import EntitiesConceptsPlot\n",
    "from EntitiesConceptsPlot import InstitutionsConceptsPlot, WorksConceptsPlot"
   ]
  },
  {
   "cell_type": "markdown",
   "id": "a9de4958-5714-407e-83dd-f18fedcf0a48",
   "metadata": {},
   "source": [
    "## Default configuration"
   ]
  },
  {
   "cell_type": "code",
   "execution_count": 2,
   "id": "a901eef6-43e1-4389-af67-aad7a48d183f",
   "metadata": {},
   "outputs": [],
   "source": [
    "EntitiesConceptsPlot.config.email = None\n",
    "EntitiesConceptsPlot.config.api_key = None\n",
    "EntitiesConceptsPlot.config.openalex_url = \"https://api.openalex.org\"\n",
    "EntitiesConceptsPlot.config.http_retry_times = 5\n",
    "EntitiesConceptsPlot.config.allow_automatic_download = True\n",
    "EntitiesConceptsPlot.config.disable_tqdm_loading_bar = False\n",
    "EntitiesConceptsPlot.config.n_max_entities = 10000\n",
    "EntitiesConceptsPlot.config.project_datas_folder_path = \"data\"\n",
    "EntitiesConceptsPlot.config.parquet_compression = \"brotli\"\n",
    "EntitiesConceptsPlot.config.max_storage_percent = 95\n",
    "EntitiesConceptsPlot.config.redis_parameters = None"
   ]
  }
 ],
 "metadata": {
  "kernelspec": {
   "display_name": "Python 3 (ipykernel)",
   "language": "python",
   "name": "python3"
  },
  "language_info": {
   "codemirror_mode": {
    "name": "ipython",
    "version": 3
   },
   "file_extension": ".py",
   "mimetype": "text/x-python",
   "name": "python",
   "nbconvert_exporter": "python",
   "pygments_lexer": "ipython3",
   "version": "3.10.6"
  }
 },
 "nbformat": 4,
 "nbformat_minor": 5
}
