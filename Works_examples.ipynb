{
 "cells": [
  {
   "cell_type": "markdown",
   "id": "1643e0f5-5313-4edb-adf3-89e6724d8f36",
   "metadata": {},
   "source": [
    "# Works examples\n",
    "\n",
    "Author: Romain THOMAS  \n",
    "June 2023  \n",
    "Stockholm Resilience Centre, Stockholm University"
   ]
  },
  {
   "cell_type": "markdown",
   "id": "a2718d66-43f2-4fc4-ba5a-11edc42110e2",
   "metadata": {},
   "source": [
    "## Import the library"
   ]
  },
  {
   "cell_type": "code",
   "execution_count": 1,
   "id": "c937a300-f0e1-4ed4-95f0-6ccd1f8b0dfc",
   "metadata": {},
   "outputs": [],
   "source": [
    "# Import he full library\n",
    "from EntitiesConceptsPlot import InstitutionsConceptsPlot, WorksConceptsPlot\n",
    "\n",
    "# If you only need the analysis methods, you can import them without the plot ones with:\n",
    "from EntitiesConceptsAnalysis import InstitutionsConceptsAnalysis, WorksConceptsAnalysis"
   ]
  },
  {
   "cell_type": "markdown",
   "id": "e2aabb02-6710-4312-8630-444a24875ea8",
   "metadata": {},
   "source": [
    "## Basic case"
   ]
  },
  {
   "cell_type": "markdown",
   "id": "946127ba-07e0-4365-8c08-a72332afb6fb",
   "metadata": {},
   "source": [
    "### Works of a concept"
   ]
  },
  {
   "cell_type": "markdown",
   "id": "a602ea1d-e1f4-47eb-b152-74a99ee71edc",
   "metadata": {},
   "source": [
    "#### Get the works"
   ]
  },
  {
   "cell_type": "code",
   "execution_count": 2,
   "id": "88b95d9a-6cc5-4851-b13e-5444f41b1c5e",
   "metadata": {},
   "outputs": [
    {
     "name": "stdout",
     "output_type": "stream",
     "text": [
      "Loading dataframe of works of the concept C66204764\n",
      "Loading the list of entities from a parquet file...\n"
     ]
    }
   ],
   "source": [
    "concept_sustainability_id = 'C66204764'\n",
    "\n",
    "wcp = WorksConceptsPlot(concept_sustainability_id)"
   ]
  },
  {
   "cell_type": "markdown",
   "id": "463e44d9-dfb3-4880-a71d-108e52471b11",
   "metadata": {},
   "source": [
    "#### The works array"
   ]
  },
  {
   "cell_type": "code",
   "execution_count": 3,
   "id": "3534bfc0-988a-435f-b6aa-19d3d9a858ac",
   "metadata": {},
   "outputs": [
    {
     "data": {
      "text/html": [
       "<div>\n",
       "<style scoped>\n",
       "    .dataframe tbody tr th:only-of-type {\n",
       "        vertical-align: middle;\n",
       "    }\n",
       "\n",
       "    .dataframe tbody tr th {\n",
       "        vertical-align: top;\n",
       "    }\n",
       "\n",
       "    .dataframe thead th {\n",
       "        text-align: right;\n",
       "    }\n",
       "</style>\n",
       "<table border=\"1\" class=\"dataframe\">\n",
       "  <thead>\n",
       "    <tr style=\"text-align: right;\">\n",
       "      <th></th>\n",
       "      <th>id</th>\n",
       "      <th>doi</th>\n",
       "      <th>title</th>\n",
       "      <th>display_name</th>\n",
       "      <th>publication_year</th>\n",
       "      <th>publication_date</th>\n",
       "      <th>language</th>\n",
       "      <th>type</th>\n",
       "      <th>authorships</th>\n",
       "      <th>corresponding_author_ids</th>\n",
       "      <th>...</th>\n",
       "      <th>primary_location.source</th>\n",
       "      <th>best_oa_location.source</th>\n",
       "      <th>apc_list.value</th>\n",
       "      <th>apc_list.currency</th>\n",
       "      <th>apc_list.value_usd</th>\n",
       "      <th>apc_list.provenance</th>\n",
       "      <th>apc_paid.value</th>\n",
       "      <th>apc_paid.currency</th>\n",
       "      <th>apc_paid.value_usd</th>\n",
       "      <th>apc_paid.provenance</th>\n",
       "    </tr>\n",
       "  </thead>\n",
       "  <tbody>\n",
       "    <tr>\n",
       "      <th>0</th>\n",
       "      <td>https://openalex.org/W2101946146</td>\n",
       "      <td>https://doi.org/10.1287/mnsc.35.12.1504</td>\n",
       "      <td>Asset Stock Accumulation and Sustainability of...</td>\n",
       "      <td>Asset Stock Accumulation and Sustainability of...</td>\n",
       "      <td>1989</td>\n",
       "      <td>1989-12-01</td>\n",
       "      <td>en</td>\n",
       "      <td>journal-article</td>\n",
       "      <td>[{'author': {'display_name': 'Ingemar Dierickx...</td>\n",
       "      <td>[]</td>\n",
       "      <td>...</td>\n",
       "      <td>NaN</td>\n",
       "      <td>NaN</td>\n",
       "      <td>NaN</td>\n",
       "      <td>None</td>\n",
       "      <td>NaN</td>\n",
       "      <td>None</td>\n",
       "      <td>NaN</td>\n",
       "      <td>None</td>\n",
       "      <td>NaN</td>\n",
       "      <td>None</td>\n",
       "    </tr>\n",
       "    <tr>\n",
       "      <th>1</th>\n",
       "      <td>https://openalex.org/W1999167944</td>\n",
       "      <td>https://doi.org/10.1126/science.1259855</td>\n",
       "      <td>Planetary boundaries: Guiding human developmen...</td>\n",
       "      <td>Planetary boundaries: Guiding human developmen...</td>\n",
       "      <td>2015</td>\n",
       "      <td>2015-02-13</td>\n",
       "      <td>en</td>\n",
       "      <td>journal-article</td>\n",
       "      <td>[{'author': {'display_name': 'Will Steffen', '...</td>\n",
       "      <td>[]</td>\n",
       "      <td>...</td>\n",
       "      <td>NaN</td>\n",
       "      <td>NaN</td>\n",
       "      <td>NaN</td>\n",
       "      <td>None</td>\n",
       "      <td>NaN</td>\n",
       "      <td>None</td>\n",
       "      <td>NaN</td>\n",
       "      <td>None</td>\n",
       "      <td>NaN</td>\n",
       "      <td>None</td>\n",
       "    </tr>\n",
       "  </tbody>\n",
       "</table>\n",
       "<p>2 rows × 85 columns</p>\n",
       "</div>"
      ],
      "text/plain": [
       "                                 id                                      doi   \n",
       "0  https://openalex.org/W2101946146  https://doi.org/10.1287/mnsc.35.12.1504  \\\n",
       "1  https://openalex.org/W1999167944  https://doi.org/10.1126/science.1259855   \n",
       "\n",
       "                                               title   \n",
       "0  Asset Stock Accumulation and Sustainability of...  \\\n",
       "1  Planetary boundaries: Guiding human developmen...   \n",
       "\n",
       "                                        display_name  publication_year   \n",
       "0  Asset Stock Accumulation and Sustainability of...              1989  \\\n",
       "1  Planetary boundaries: Guiding human developmen...              2015   \n",
       "\n",
       "  publication_date language             type   \n",
       "0       1989-12-01       en  journal-article  \\\n",
       "1       2015-02-13       en  journal-article   \n",
       "\n",
       "                                         authorships corresponding_author_ids   \n",
       "0  [{'author': {'display_name': 'Ingemar Dierickx...                       []  \\\n",
       "1  [{'author': {'display_name': 'Will Steffen', '...                       []   \n",
       "\n",
       "   ... primary_location.source  best_oa_location.source  apc_list.value   \n",
       "0  ...                     NaN                      NaN             NaN  \\\n",
       "1  ...                     NaN                      NaN             NaN   \n",
       "\n",
       "   apc_list.currency  apc_list.value_usd  apc_list.provenance apc_paid.value   \n",
       "0               None                 NaN                 None            NaN  \\\n",
       "1               None                 NaN                 None            NaN   \n",
       "\n",
       "  apc_paid.currency  apc_paid.value_usd apc_paid.provenance  \n",
       "0              None                 NaN                None  \n",
       "1              None                 NaN                None  \n",
       "\n",
       "[2 rows x 85 columns]"
      ]
     },
     "execution_count": 3,
     "metadata": {},
     "output_type": "execute_result"
    }
   ],
   "source": [
    "wcp.entities_df.head(2)"
   ]
  },
  {
   "cell_type": "markdown",
   "id": "2bf849f4-3f14-4dd5-af1c-6dbf045786c6",
   "metadata": {},
   "source": [
    "#### Compute the most used references"
   ]
  },
  {
   "cell_type": "code",
   "execution_count": 4,
   "id": "aa6cec4b-dad0-446b-bd20-08ff5d165033",
   "metadata": {},
   "outputs": [
    {
     "name": "stdout",
     "output_type": "stream",
     "text": [
      "Creating the works references count of works C66204764...\n"
     ]
    }
   ],
   "source": [
    "wcp.create_element_used_count_array('reference')"
   ]
  },
  {
   "cell_type": "markdown",
   "id": "59a3f9a6-db72-4bf0-95bd-87e58c74931c",
   "metadata": {},
   "source": [
    "#### The reference count array"
   ]
  },
  {
   "cell_type": "code",
   "execution_count": 5,
   "id": "fcec40ed-b8b3-4bda-b429-a28ad4823a1e",
   "metadata": {},
   "outputs": [
    {
     "data": {
      "text/html": [
       "<div>\n",
       "<style scoped>\n",
       "    .dataframe tbody tr th:only-of-type {\n",
       "        vertical-align: middle;\n",
       "    }\n",
       "\n",
       "    .dataframe tbody tr th {\n",
       "        vertical-align: top;\n",
       "    }\n",
       "\n",
       "    .dataframe thead th {\n",
       "        text-align: right;\n",
       "    }\n",
       "</style>\n",
       "<table border=\"1\" class=\"dataframe\">\n",
       "  <thead>\n",
       "    <tr style=\"text-align: right;\">\n",
       "      <th></th>\n",
       "      <th>C66204764 Sustainability</th>\n",
       "    </tr>\n",
       "    <tr>\n",
       "      <th>element</th>\n",
       "      <th></th>\n",
       "    </tr>\n",
       "  </thead>\n",
       "  <tbody>\n",
       "    <tr>\n",
       "      <th>https://openalex.org/W2096885696</th>\n",
       "      <td>261</td>\n",
       "    </tr>\n",
       "    <tr>\n",
       "      <th>https://openalex.org/W2026816730</th>\n",
       "      <td>261</td>\n",
       "    </tr>\n",
       "    <tr>\n",
       "      <th>https://openalex.org/W2103847341</th>\n",
       "      <td>235</td>\n",
       "    </tr>\n",
       "  </tbody>\n",
       "</table>\n",
       "</div>"
      ],
      "text/plain": [
       "                                  C66204764 Sustainability\n",
       "element                                                   \n",
       "https://openalex.org/W2096885696                       261\n",
       "https://openalex.org/W2026816730                       261\n",
       "https://openalex.org/W2103847341                       235"
      ]
     },
     "execution_count": 5,
     "metadata": {},
     "output_type": "execute_result"
    }
   ],
   "source": [
    "wcp.element_count_df.head(3)"
   ]
  },
  {
   "cell_type": "code",
   "execution_count": null,
   "id": "59e69a47-2e51-456b-b011-ac3bdd1ca414",
   "metadata": {},
   "outputs": [],
   "source": []
  }
 ],
 "metadata": {
  "kernelspec": {
   "display_name": "Python 3 (ipykernel)",
   "language": "python",
   "name": "python3"
  },
  "language_info": {
   "codemirror_mode": {
    "name": "ipython",
    "version": 3
   },
   "file_extension": ".py",
   "mimetype": "text/x-python",
   "name": "python",
   "nbconvert_exporter": "python",
   "pygments_lexer": "ipython3",
   "version": "3.10.6"
  }
 },
 "nbformat": 4,
 "nbformat_minor": 5
}
